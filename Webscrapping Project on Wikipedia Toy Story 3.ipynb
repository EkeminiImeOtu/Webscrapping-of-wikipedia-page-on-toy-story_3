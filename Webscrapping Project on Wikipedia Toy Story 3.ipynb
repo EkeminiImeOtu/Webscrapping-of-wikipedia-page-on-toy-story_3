{
 "cells": [
  {
   "cell_type": "markdown",
   "metadata": {},
   "source": [
    "# Import The Required Library"
   ]
  },
  {
   "cell_type": "code",
   "execution_count": null,
   "metadata": {},
   "outputs": [],
   "source": [
    "from bs4 import BeautifulSoup as bs\n",
    "import requests"
   ]
  },
  {
   "cell_type": "markdown",
   "metadata": {},
   "source": [
    "# Load the webpage"
   ]
  },
  {
   "cell_type": "code",
   "execution_count": null,
   "metadata": {
    "scrolled": false
   },
   "outputs": [],
   "source": [
    "w = requests.get(\"https://en.wikipedia.org/wiki/Toy_Story_3\")\n",
    "b_soup = bs(w.content)\n",
    "html = b_soup.prettify()\n",
    "print(html)"
   ]
  },
  {
   "cell_type": "code",
   "execution_count": null,
   "metadata": {
    "scrolled": false
   },
   "outputs": [],
   "source": [
    "info_box_vevent = b_soup.find(class_=\"infobox vevent\")\n",
    "info_rows = info_box_vevent.find_all(\"tr\")\n",
    "for row in info_rows:\n",
    "    print(row.prettify())\n"
   ]
  },
  {
   "cell_type": "code",
   "execution_count": 7,
   "metadata": {
    "scrolled": true
   },
   "outputs": [
    {
     "data": {
      "text/plain": [
       "{'title': 'Toy Story 3',\n",
       " 'Directed by': 'Lee Unkrich',\n",
       " 'Produced by': 'Darla K. Anderson',\n",
       " 'Screenplay by': 'Michael Arndt',\n",
       " 'Story by': ['John Lasseter', 'Andrew Stanton', 'Lee Unkrich'],\n",
       " 'Starring': ['Tom Hanks',\n",
       "  'Tim Allen',\n",
       "  'Joan Cusack',\n",
       "  'Don Rickles',\n",
       "  'Wallace Shawn',\n",
       "  'John Ratzenberger',\n",
       "  'Estelle Harris',\n",
       "  'Ned Beatty',\n",
       "  'Michael Keaton',\n",
       "  'Jodi Benson',\n",
       "  'John Morris'],\n",
       " 'Music by': 'Randy Newman',\n",
       " 'Cinematography': ['Jeremy Lasky', 'Kim White'],\n",
       " 'Edited by': 'Ken Schretzmann',\n",
       " 'Production companies': ['Walt Disney Pictures', 'Pixar Animation Studios'],\n",
       " 'Distributed by': 'Walt Disney Studios Motion Pictures',\n",
       " 'Release date': ['June 12, 2010 ( 2010-06-12 ) ( Taormina Film Fest )',\n",
       "  'June 18, 2010 ( 2010-06-18 ) (United States)'],\n",
       " 'Running time': '103 minutes [1]',\n",
       " 'Country': 'United States',\n",
       " 'Language': 'English',\n",
       " 'Budget': '$200 million [1]',\n",
       " 'Box office': '$1.067 billion [1]'}"
      ]
     },
     "execution_count": 7,
     "metadata": {},
     "output_type": "execute_result"
    }
   ],
   "source": [
    "def get_content_value(row_data):\n",
    "    if row_data.find(\"li\"):\n",
    "        return[li.get_text(\" \", strip = True).replace(\"\\xa0\", \" \") for li in row_data.find_all(\"li\")]\n",
    "    else:\n",
    "        return row_data.get_text(\" \", strip=True).replace(\"\\xa0\", \" \")\n",
    "    \n",
    "movie_info = {}\n",
    "\n",
    "for index, row in enumerate(info_rows):\n",
    "    if index == 0:\n",
    "        movie_info[\"title\"] = row.find(\"th\").get_text(\" \", strip=True)\n",
    "    elif index == 1:\n",
    "        continue\n",
    "    else:\n",
    "        content_key = row.find(\"th\").get_text(\" \", strip=True)\n",
    "        content_value = get_content_value(row.find(\"td\"))\n",
    "        movie_info[content_key] = content_value\n",
    "        \n",
    "movie_info        "
   ]
  },
  {
   "cell_type": "code",
   "execution_count": null,
   "metadata": {},
   "outputs": [],
   "source": []
  },
  {
   "cell_type": "code",
   "execution_count": null,
   "metadata": {},
   "outputs": [],
   "source": []
  }
 ],
 "metadata": {
  "kernelspec": {
   "display_name": "Python 3",
   "language": "python",
   "name": "python3"
  },
  "language_info": {
   "codemirror_mode": {
    "name": "ipython",
    "version": 3
   },
   "file_extension": ".py",
   "mimetype": "text/x-python",
   "name": "python",
   "nbconvert_exporter": "python",
   "pygments_lexer": "ipython3",
   "version": "3.7.6"
  }
 },
 "nbformat": 4,
 "nbformat_minor": 4
}
